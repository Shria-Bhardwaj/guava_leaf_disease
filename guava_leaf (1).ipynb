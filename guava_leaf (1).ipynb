{
  "cells": [
    {
      "cell_type": "markdown",
      "metadata": {
        "id": "8gvxbWKY8nyP"
      },
      "source": [
        "Import Libraries"
      ]
    },
    {
      "cell_type": "code",
      "execution_count": null,
      "metadata": {
        "id": "NwY8K2S70VhW"
      },
      "outputs": [],
      "source": [
        "import tensorflow as tf\n",
        "from tensorflow.keras.preprocessing.image import ImageDataGenerator"
      ]
    },
    {
      "cell_type": "code",
      "execution_count": null,
      "metadata": {
        "id": "C4tx3kb20ijG"
      },
      "outputs": [],
      "source": [
        "import os\n",
        "import numpy as np\n",
        "import matplotlib.pyplot as plt\n",
        "from tensorflow.keras.preprocessing.image import ImageDataGenerator"
      ]
    },
    {
      "cell_type": "markdown",
      "metadata": {
        "id": "FKcmTplBZFUI"
      },
      "source": [
        "MOUNT DRIVE"
      ]
    },
    {
      "cell_type": "code",
      "execution_count": null,
      "metadata": {
        "id": "W6PlGhXw0fpu",
        "colab": {
          "base_uri": "https://localhost:8080/"
        },
        "outputId": "9ba868ec-416d-40de-e402-acb7e34102a9"
      },
      "outputs": [
        {
          "output_type": "stream",
          "name": "stdout",
          "text": [
            "Drive already mounted at /content/drive; to attempt to forcibly remount, call drive.mount(\"/content/drive\", force_remount=True).\n"
          ]
        }
      ],
      "source": [
        "from google.colab import drive\n",
        "drive.mount('/content/drive')"
      ]
    },
    {
      "cell_type": "markdown",
      "metadata": {
        "id": "hWUP2Yzht5Ky"
      },
      "source": [
        "SET UP IMAGE DATA GENERATORS FOR TRAINING, TESTING AND VALIDATION"
      ]
    },
    {
      "cell_type": "code",
      "execution_count": null,
      "metadata": {
        "colab": {
          "base_uri": "https://localhost:8080/"
        },
        "id": "3aNOVa4a5PNW",
        "outputId": "45893f94-7bc8-4ccc-dae1-a184b0f3559c"
      },
      "outputs": [
        {
          "output_type": "stream",
          "name": "stdout",
          "text": [
            "Found 1377 images belonging to 5 classes.\n",
            "Found 457 images belonging to 5 classes.\n",
            "Found 465 images belonging to 5 classes.\n"
          ]
        }
      ],
      "source": [
        "train ='/content/drive/My Drive/train'\n",
        "test = '/content/drive/My Drive/test'\n",
        "val = '/content/drive/My Drive/val'\n",
        "img_height, img_width = 224, 224  # You can adjust based on your images\n",
        "batch_size = 32\n",
        "\n",
        "train_datagen = ImageDataGenerator(rescale=1./255, rotation_range=20, zoom_range=0.2, horizontal_flip=True)\n",
        "val_datagen = ImageDataGenerator(rescale=1./255)\n",
        "test_datagen = ImageDataGenerator(rescale=1./255)\n",
        "\n",
        "train_gen = train_datagen.flow_from_directory(train, target_size=(img_height, img_width), batch_size=batch_size, class_mode='categorical')\n",
        "val_gen = val_datagen.flow_from_directory(val, target_size=(img_height, img_width), batch_size=batch_size, class_mode='categorical')\n",
        "test_gen = test_datagen.flow_from_directory(test, target_size=(img_height, img_width), batch_size=batch_size, class_mode='categorical', shuffle=False)\n"
      ]
    },
    {
      "cell_type": "code",
      "execution_count": null,
      "metadata": {
        "colab": {
          "base_uri": "https://localhost:8080/"
        },
        "id": "EeCNs8Xc9N3R",
        "outputId": "99730895-9197-42f5-b8d4-4b0841883a3f"
      },
      "outputs": [
        {
          "output_type": "stream",
          "name": "stdout",
          "text": [
            "Found 1377 images belonging to 5 classes.\n",
            "Class Indices:\n",
            "{'Canker': 0, 'Dot': 1, 'Healthy': 2, 'Mummification': 3, 'Rust': 4}\n",
            "\n",
            "Counting images in each class:\n",
            "{'Canker': 166, 'Dot': 106, 'Healthy': 773, 'Mummification': 165, 'Rust': 167}\n"
          ]
        }
      ],
      "source": [
        "# Create the ImageDataGenerator and load the data\n",
        "train_datagen = ImageDataGenerator(rescale=1./255, rotation_range=20, zoom_range=0.2, horizontal_flip=True)\n",
        "\n",
        "train_gen = train_datagen.flow_from_directory(\n",
        "    train,\n",
        "    target_size=(img_height, img_width),\n",
        "    batch_size=batch_size,\n",
        "    class_mode='categorical'\n",
        ")\n",
        "\n",
        "# 1. Checking class indices\n",
        "print(\"Class Indices:\")\n",
        "print(train_gen.class_indices)\n",
        "\n",
        "# 2. Manually counting images per class\n",
        "print(\"\\nCounting images in each class:\")\n",
        "class_counts = {class_name: 0 for class_name in train_gen.class_indices.keys()}  # Initialize a dictionary for class counts\n",
        "\n",
        "# Loop through the directory and count the images in each class\n",
        "for class_name in os.listdir(train):\n",
        "    class_path = os.path.join(train, class_name)\n",
        "    if os.path.isdir(class_path):\n",
        "        class_counts[class_name] = len(os.listdir(class_path))\n",
        "\n",
        "print(class_counts)"
      ]
    },
    {
      "cell_type": "markdown",
      "metadata": {
        "id": "TghSSC0F8xp1"
      },
      "source": [
        "Define a Simple CNN Model"
      ]
    },
    {
      "cell_type": "code",
      "execution_count": null,
      "metadata": {
        "id": "CDHZNTQ52hEZ",
        "colab": {
          "base_uri": "https://localhost:8080/"
        },
        "outputId": "cef298e6-0e4e-44f0-bec5-ed314a912fe5"
      },
      "outputs": [
        {
          "output_type": "stream",
          "name": "stderr",
          "text": [
            "/usr/local/lib/python3.11/dist-packages/keras/src/layers/convolutional/base_conv.py:107: UserWarning: Do not pass an `input_shape`/`input_dim` argument to a layer. When using Sequential models, prefer using an `Input(shape)` object as the first layer in the model instead.\n",
            "  super().__init__(activity_regularizer=activity_regularizer, **kwargs)\n"
          ]
        }
      ],
      "source": [
        "model = tf.keras.models.Sequential([\n",
        "    tf.keras.layers.Conv2D(32, (3, 3), activation='relu', input_shape=(img_height, img_width, 3)),\n",
        "    tf.keras.layers.MaxPooling2D(2, 2),\n",
        "\n",
        "    tf.keras.layers.Conv2D(64, (3, 3), activation='relu'),\n",
        "    tf.keras.layers.MaxPooling2D(2, 2),\n",
        "\n",
        "    tf.keras.layers.Conv2D(128, (3, 3), activation='relu'),\n",
        "    tf.keras.layers.MaxPooling2D(2, 2),\n",
        "\n",
        "    tf.keras.layers.Flatten(),\n",
        "    tf.keras.layers.Dense(128, activation='relu'),\n",
        "    tf.keras.layers.Dropout(0.5),\n",
        "    tf.keras.layers.Dense(train_gen.num_classes, activation='softmax')\n",
        "])"
      ]
    },
    {
      "cell_type": "markdown",
      "metadata": {
        "id": "D2wnVAyb8zVF"
      },
      "source": [
        "Compile the Model"
      ]
    },
    {
      "cell_type": "code",
      "execution_count": null,
      "metadata": {
        "id": "2z2-FRXN20KS"
      },
      "outputs": [],
      "source": [
        "model.compile(optimizer='adam', loss='categorical_crossentropy', metrics=['accuracy'])"
      ]
    },
    {
      "cell_type": "markdown",
      "metadata": {
        "id": "MsHg46Vf81bQ"
      },
      "source": [
        " Train the Model"
      ]
    },
    {
      "cell_type": "code",
      "execution_count": null,
      "metadata": {
        "colab": {
          "base_uri": "https://localhost:8080/"
        },
        "id": "pptBQRpZ23M2",
        "outputId": "fb43fc81-dc95-46f8-c142-a3d98cef928c"
      },
      "outputs": [
        {
          "output_type": "stream",
          "name": "stderr",
          "text": [
            "/usr/local/lib/python3.11/dist-packages/keras/src/trainers/data_adapters/py_dataset_adapter.py:121: UserWarning: Your `PyDataset` class should call `super().__init__(**kwargs)` in its constructor. `**kwargs` can include `workers`, `use_multiprocessing`, `max_queue_size`. Do not pass these arguments to `fit()`, as they will be ignored.\n",
            "  self._warn_if_super_not_called()\n"
          ]
        },
        {
          "output_type": "stream",
          "name": "stdout",
          "text": [
            "Epoch 1/10\n",
            "\u001b[1m 8/44\u001b[0m \u001b[32m━━━\u001b[0m\u001b[37m━━━━━━━━━━━━━━━━━\u001b[0m \u001b[1m6:31\u001b[0m 11s/step - accuracy: 0.4539 - loss: 1.6919"
          ]
        }
      ],
      "source": [
        "history = model.fit(train_gen, epochs=10, validation_data=val_gen)"
      ]
    },
    {
      "cell_type": "markdown",
      "metadata": {
        "id": "HppcZ20N83-6"
      },
      "source": [
        "Evaluate on Test Data"
      ]
    },
    {
      "cell_type": "code",
      "execution_count": null,
      "metadata": {
        "colab": {
          "base_uri": "https://localhost:8080/"
        },
        "id": "X6VzizAeMINp",
        "outputId": "26f01bd5-bf83-4782-ad64-7dcc1ddea027"
      },
      "outputs": [
        {
          "output_type": "stream",
          "name": "stderr",
          "text": [
            "/usr/local/lib/python3.11/dist-packages/keras/src/trainers/data_adapters/py_dataset_adapter.py:121: UserWarning: Your `PyDataset` class should call `super().__init__(**kwargs)` in its constructor. `**kwargs` can include `workers`, `use_multiprocessing`, `max_queue_size`. Do not pass these arguments to `fit()`, as they will be ignored.\n",
            "  self._warn_if_super_not_called()\n"
          ]
        },
        {
          "output_type": "stream",
          "name": "stdout",
          "text": [
            "\u001b[1m15/15\u001b[0m \u001b[32m━━━━━━━━━━━━━━━━━━━━\u001b[0m\u001b[37m\u001b[0m \u001b[1m57s\u001b[0m 4s/step - accuracy: 0.1818 - loss: 1.6108\n",
            "Test accuracy: 0.24\n"
          ]
        }
      ],
      "source": [
        "test_loss, test_acc = model.evaluate(test_gen)\n",
        "print(f'Test accuracy: {test_acc:.2f}')"
      ]
    },
    {
      "cell_type": "markdown",
      "metadata": {
        "id": "pP7Ix4Ff86m4"
      },
      "source": [
        "Save the Model"
      ]
    },
    {
      "cell_type": "code",
      "execution_count": null,
      "metadata": {
        "colab": {
          "base_uri": "https://localhost:8080/"
        },
        "id": "QY76eDrE27DG",
        "outputId": "b28326cb-d6a8-4d94-c099-16b502859cc2"
      },
      "outputs": [
        {
          "output_type": "stream",
          "name": "stderr",
          "text": [
            "WARNING:absl:You are saving your model as an HDF5 file via `model.save()` or `keras.saving.save_model(model)`. This file format is considered legacy. We recommend using instead the native Keras format, e.g. `model.save('my_model.keras')` or `keras.saving.save_model(model, 'my_model.keras')`. \n"
          ]
        }
      ],
      "source": [
        "model.save('/content/drive/My Drive/guava_leaf_model.h5')"
      ]
    },
    {
      "cell_type": "markdown",
      "metadata": {
        "id": "_c_Tf68NboYh"
      },
      "source": [
        " Saving Model Weights"
      ]
    },
    {
      "cell_type": "code",
      "execution_count": null,
      "metadata": {
        "id": "zBMSpcnlv_Mz"
      },
      "outputs": [],
      "source": [
        "model.save_weights('/content/drive/My Drive/guava_leaf_model.weights.h5')"
      ]
    },
    {
      "cell_type": "markdown",
      "metadata": {
        "id": "BxF9rYSpbtBZ"
      },
      "source": [
        "Loading Saved Weights"
      ]
    },
    {
      "cell_type": "code",
      "execution_count": null,
      "metadata": {
        "id": "vAiBLa16btbZ"
      },
      "outputs": [],
      "source": [
        "# Now load the saved weights into the model\n",
        "model.load_weights('/content/drive/My Drive/guava_leaf_model.weights.h5')\n"
      ]
    },
    {
      "cell_type": "markdown",
      "metadata": {
        "id": "2tiASva-6kvF"
      },
      "source": [
        "New Self Check"
      ]
    },
    {
      "cell_type": "code",
      "execution_count": null,
      "metadata": {
        "colab": {
          "base_uri": "https://localhost:8080/",
          "height": 478
        },
        "id": "mDzFW2Ex5V2P",
        "outputId": "9d4b26f0-659c-4c63-9109-9f7f9f066ea5"
      },
      "outputs": [
        {
          "output_type": "stream",
          "name": "stderr",
          "text": [
            "WARNING:absl:Compiled the loaded model, but the compiled metrics have yet to be built. `model.compile_metrics` will be empty until you train or evaluate the model.\n"
          ]
        },
        {
          "output_type": "display_data",
          "data": {
            "text/plain": [
              "<Figure size 640x480 with 1 Axes>"
            ],
            "image/png": "[encoded data removed]"
          },
          "metadata": {}
        },
        {
          "output_type": "stream",
          "name": "stdout",
          "text": [
            "\u001b[1m1/1\u001b[0m \u001b[32m━━━━━━━━━━━━━━━━━━━━\u001b[0m\u001b[37m\u001b[0m \u001b[1m0s\u001b[0m 250ms/step\n",
            "Predicted Disease: HEALTHY\n"
          ]
        }
      ],
      "source": [
        "import cv2\n",
        "import numpy as np\n",
        "import tensorflow as tf\n",
        "import matplotlib.pyplot as plt\n",
        "\n",
        "# Load the saved model\n",
        "model = tf.keras.models.load_model('/content/drive/My Drive/guava_leaf_model.h5')\n",
        "\n",
        "# Read the image from disk\n",
        "img = cv2.imread('/content/drive/MyDrive/val/Healthy/test_0_1134.jpeg')\n",
        "\n",
        "# Convert the image from BGR (OpenCV) to RGB\n",
        "img = cv2.cvtColor(img, cv2.COLOR_BGR2RGB)\n",
        "\n",
        "# Resize the image to match the model input size (e.g., 224x224)\n",
        "img = cv2.resize(img, (224, 224))\n",
        "\n",
        "# Show the image to make sure it looks correct\n",
        "plt.imshow(img)\n",
        "plt.axis('off')\n",
        "plt.show()\n",
        "\n",
        "# Normalize the image (scale pixel values to [0, 1])\n",
        "img = img / 255.0\n",
        "\n",
        "# Reshape the image to match the model's input shape (batch size, height, width, channels)\n",
        "img = np.expand_dims(img, axis=0)  # Add batch dimension\n",
        "\n",
        "# Make prediction\n",
        "prediction = model.predict(img)\n",
        "\n",
        "# Get the predicted class (if model has softmax, this will give probabilities)\n",
        "predicted_class = np.argmax(prediction)\n",
        "\n",
        "# If you have class labels, map the prediction to a label\n",
        "class_labels = ['CANKER', 'DOT', 'HEALTHY', 'MUMMIFICATION', 'RUST']  # Replace with your class labels\n",
        "predicted_label = class_labels[predicted_class]\n",
        "\n",
        "# Print the result\n",
        "print(f\"Predicted Disease: {predicted_label}\")\n"
      ]
    },
    {
      "cell_type": "code",
      "execution_count": null,
      "metadata": {
        "colab": {
          "base_uri": "https://localhost:8080/",
          "height": 618,
          "referenced_widgets": [
            "06c00a47263748bbb01182f0b9770ae4",
            "e7852e943a7547eb8bc58439c8a5e384",
            "a6299034363b43448b02372d462cf53d",
            "110c46f81dce4b99b0163abd3eacc511",
            "25afc11a909b48049053137412ff39f0",
            "6c4eda37d3ae4689a1d3ac5ed72f4bd3",
            "333a2752f157457fbd7273b0c8e0e144",
            "07636af0fb9840e5804d62a2f4f40b46",
            "967578cefa5346b9b061c29f9cc06808",
            "4eda06e3f1c845129d7dbd15397858f1",
            "233d06083a584914b0d3b00f7fe89c5e",
            "3a473787ec6d484d90e5c21eea427716",
            "c56e35d8c5574352923f66a93b8e0bac",
            "e001963f4d5b4c8e89ac5cd044507452",
            "8757ca9ede2d4d8b968310c86c2ba0be",
            "7db36eba13c64419b6f453a621bf667c"
          ]
        },
        "id": "o9Omqry1jZ8A",
        "outputId": "71776eb4-2133-482e-b752-6ee566b4c9a4"
      },
      "outputs": [
        {
          "output_type": "stream",
          "name": "stderr",
          "text": [
            "WARNING:absl:Compiled the loaded model, but the compiled metrics have yet to be built. `model.compile_metrics` will be empty until you train or evaluate the model.\n"
          ]
        },
        {
          "output_type": "display_data",
          "data": {
            "text/plain": [
              "<IPython.core.display.HTML object>"
            ],
            "text/html": [
              "\n",
              "<style>\n",
              "h1, h2, h3, h4, p {\n",
              "    font-family: 'Poppins', 'Segoe UI', sans-serif;\n",
              "    color: #1b1b1b;\n",
              "}\n",
              ".button-custom {\n",
              "    background: linear-gradient(90deg, #0078D7, #0056b3);\n",
              "    color: white;\n",
              "    font-size: 16px;\n",
              "    font-weight: bold;\n",
              "    border: none;\n",
              "    border-radius: 8px;\n",
              "    padding: 12px 24px;\n",
              "    cursor: pointer;\n",
              "    transition: 0.3s;\n",
              "}\n",
              ".button-custom:hover {\n",
              "    background: linear-gradient(90deg, #0056b3, #0078D7);\n",
              "}\n",
              ".upload-area {\n",
              "    border: 3px dashed #0078D7;\n",
              "    padding: 30px;\n",
              "    background: #eef6fb;\n",
              "    border-radius: 16px;\n",
              "    margin-top: 30px;\n",
              "}\n",
              ".prediction-box {\n",
              "    margin-top: 20px;\n",
              "    padding: 20px;\n",
              "    border-radius: 12px;\n",
              "    font-size: 20px;\n",
              "    text-align: center;\n",
              "}\n",
              ".pred-healthy {\n",
              "    background-color: #28a745;\n",
              "    color: white;\n",
              "}\n",
              ".pred-disease {\n",
              "    background-color: #dc3545;\n",
              "    color: white;\n",
              "}\n",
              ".footer {\n",
              "    text-align: center;\n",
              "    font-size: 14px;\n",
              "    color: #777;\n",
              "    margin-top: 40px;\n",
              "}\n",
              "</style>\n"
            ]
          },
          "metadata": {}
        },
        {
          "output_type": "display_data",
          "data": {
            "text/plain": [
              "VBox(children=(HTML(value='\\n    <h1 style=\"text-align:center; font-size:52px; line-height:1.4; margin-bottom:…"
            ],
            "application/vnd.jupyter.widget-view+json": {
              "version_major": 2,
              "version_minor": 0,
              "model_id": "06c00a47263748bbb01182f0b9770ae4"
            }
          },
          "metadata": {}
        }
      ],
      "source": [
        "import ipywidgets as widgets\n",
        "from IPython.display import display, clear_output, HTML\n",
        "from tensorflow.keras.models import load_model\n",
        "from tensorflow.keras.preprocessing.image import img_to_array\n",
        "import numpy as np\n",
        "from PIL import Image\n",
        "import io\n",
        "import matplotlib.pyplot as plt\n",
        "\n",
        "# Load model and class names\n",
        "model = load_model('/content/drive/My Drive/guava_leaf_model.h5')\n",
        "class_names = [\"Canker\", \"Dot\", \"Healthy\", \"Mummification\", \"Rust\"]\n",
        "\n",
        "# Global CSS Styling\n",
        "display(HTML('''\n",
        "<style>\n",
        "h1, h2, h3, h4, p {\n",
        "    font-family: 'Poppins', 'Segoe UI', sans-serif;\n",
        "    color: #1b1b1b;\n",
        "}\n",
        ".button-custom {\n",
        "    background: linear-gradient(90deg, #0078D7, #0056b3);\n",
        "    color: white;\n",
        "    font-size: 16px;\n",
        "    font-weight: bold;\n",
        "    border: none;\n",
        "    border-radius: 8px;\n",
        "    padding: 12px 24px;\n",
        "    cursor: pointer;\n",
        "    transition: 0.3s;\n",
        "}\n",
        ".button-custom:hover {\n",
        "    background: linear-gradient(90deg, #0056b3, #0078D7);\n",
        "}\n",
        ".upload-area {\n",
        "    border: 3px dashed #0078D7;\n",
        "    padding: 30px;\n",
        "    background: #eef6fb;\n",
        "    border-radius: 16px;\n",
        "    margin-top: 30px;\n",
        "}\n",
        ".prediction-box {\n",
        "    margin-top: 20px;\n",
        "    padding: 20px;\n",
        "    border-radius: 12px;\n",
        "    font-size: 20px;\n",
        "    text-align: center;\n",
        "}\n",
        ".pred-healthy {\n",
        "    background-color: #28a745;\n",
        "    color: white;\n",
        "}\n",
        ".pred-disease {\n",
        "    background-color: #dc3545;\n",
        "    color: white;\n",
        "}\n",
        ".footer {\n",
        "    text-align: center;\n",
        "    font-size: 14px;\n",
        "    color: #777;\n",
        "    margin-top: 40px;\n",
        "}\n",
        "</style>\n",
        "'''))\n",
        "\n",
        "# --- Home Page ---\n",
        "home_title = widgets.HTML('''\n",
        "    <h1 style=\"text-align:center; font-size:52px; line-height:1.4; margin-bottom:10px;\">\n",
        "        🍃 Guava Leaf<br>Disease Detector\n",
        "    </h1>\n",
        "''')\n",
        "\n",
        "home_description = widgets.HTML('''\n",
        "    <p style=\"text-align:center; font-size:18px; color:#333; max-width:750px; margin:auto; line-height:1.8;\">\n",
        "        Welcome to the Guava Leaf Disease Detection App!<br><br>\n",
        "        It identifies diseases like <b>Canker</b>, <b>Dot</b>, <b>Mummification</b>, <b>Rust</b>, and <b>Healthy</b> leaves with high precision using Deep Learning.<br><br>\n",
        "        Let's get started!\n",
        "    </p>\n",
        "''')\n",
        "\n",
        "start_button = widgets.Button(description=\"🚀 Start Diagnosis\", layout=widgets.Layout(width=\"250px\", height=\"55px\"))\n",
        "start_button.add_class(\"button-custom\")\n",
        "\n",
        "# Upload & Predict Page\n",
        "file_upload = widgets.FileUpload(\n",
        "    accept=\"image/*\", multiple=False,\n",
        "    layout=widgets.Layout(width='100%', height='120px')\n",
        ")\n",
        "\n",
        "diagnose_button = widgets.Button(description=\"🩺 Diagnose\", layout=widgets.Layout(width=\"220px\", height=\"50px\"))\n",
        "diagnose_button.add_class(\"button-custom\")\n",
        "\n",
        "back_button = widgets.Button(description=\"⬅️ Back\", layout=widgets.Layout(width=\"200px\", height=\"50px\"))\n",
        "back_button.add_class(\"button-custom\")\n",
        "\n",
        "upload_output = widgets.Output()\n",
        "\n",
        "# Prediction logic\n",
        "def predict_leaf_disease(image):\n",
        "    image = image.resize((224, 224))\n",
        "    img_array = img_to_array(image) / 255.0\n",
        "    img_array = np.expand_dims(img_array, axis=0)\n",
        "    preds = model.predict(img_array)\n",
        "    return preds\n",
        "\n",
        "# Diagnose button click\n",
        "def on_diagnose_click(b):\n",
        "    with upload_output:\n",
        "        clear_output()\n",
        "        if not file_upload.value:\n",
        "            display(HTML(\"<div style='color:#dc3545; text-align:center;'><b>⚠️ Please upload an image first!</b></div>\"))\n",
        "            return\n",
        "\n",
        "        uploaded_file = next(iter(file_upload.value.values()))\n",
        "        content = uploaded_file['content']\n",
        "        image = Image.open(io.BytesIO(content)).convert('RGB')\n",
        "\n",
        "        display(HTML(\"<h4 style='text-align:center; color:#0078D7;'>⏳ Diagnosing, please wait...</h4>\"))\n",
        "\n",
        "        preds = predict_leaf_disease(image)\n",
        "        predicted_class = class_names[np.argmax(preds)]\n",
        "        confidence = np.max(preds)\n",
        "\n",
        "        display(HTML(\"<h4 style='text-align:center; color:#1b1b1b;'>Uploaded Leaf:</h4>\"))\n",
        "        display(image.resize((300, 300)))\n",
        "\n",
        "        # Result box\n",
        "        box_class = \"pred-healthy\" if predicted_class == \"Healthy\" else \"pred-disease\"\n",
        "        prediction_html = f\"\"\"\n",
        "        <div class='prediction-box {box_class}'>\n",
        "            🔍 <b>Prediction:</b> {predicted_class}<br>\n",
        "            🎯 <b>Confidence:</b> {confidence*100:.2f}%\n",
        "        </div>\n",
        "        \"\"\"\n",
        "        display(HTML(prediction_html))\n",
        "\n",
        "        # Plot probabilities\n",
        "        fig, ax = plt.subplots(figsize=(8, 4))\n",
        "        ax.bar(class_names, preds[0], color=\"#0078D7\")\n",
        "        ax.set_ylim(0, 1)\n",
        "        ax.set_ylabel(\"Confidence\", color=\"#333\")\n",
        "        ax.set_title(\"Prediction Confidence\", fontsize=14, color=\"#333\")\n",
        "        plt.xticks(rotation=45)\n",
        "        plt.grid(axis='y')\n",
        "        plt.show()\n",
        "\n",
        "diagnose_button.on_click(on_diagnose_click)\n",
        "\n",
        "# Layout container\n",
        "app_container = widgets.VBox()\n",
        "\n",
        "def show_home():\n",
        "    upload_output.clear_output()\n",
        "    app_container.children = [\n",
        "        home_title,\n",
        "        home_description,\n",
        "        widgets.HBox([start_button], layout=widgets.Layout(justify_content=\"center\", padding=\"20px\")),\n",
        "        widgets.HTML('<div class=\"footer\">Made with ❤️ by <b>AGROCARE INDIA</b></div>')\n",
        "    ]\n",
        "\n",
        "def show_upload_page():\n",
        "    upload_output.clear_output()\n",
        "\n",
        "    upload_box = widgets.VBox([\n",
        "        widgets.HTML('<h3 style=\"text-align:center; color:#0078D7;\">📤 Upload a Guava Leaf Image</h3>'),\n",
        "        file_upload,\n",
        "        widgets.HBox([diagnose_button], layout=widgets.Layout(justify_content=\"center\", padding=\"10px\")),\n",
        "        upload_output\n",
        "    ], layout=widgets.Layout(\n",
        "        width='100%',\n",
        "        padding='20px',\n",
        "        border='3px dashed #0078D7',\n",
        "        background_color='#eef6fb',\n",
        "        border_radius='16px',\n",
        "        margin='auto'\n",
        "    ))\n",
        "\n",
        "    app_container.children = [\n",
        "        widgets.HBox([back_button], layout=widgets.Layout(justify_content=\"flex-start\", padding=\"10px\")),\n",
        "        upload_box,\n",
        "        widgets.HTML('<div class=\"footer\">Made with ❤️ by <b>AGROCARE INDIA</b></div>')\n",
        "    ]\n",
        "\n",
        "start_button.on_click(lambda b: show_upload_page())\n",
        "back_button.on_click(lambda b: show_home())\n",
        "\n",
        "# Launch Home page\n",
        "show_home()\n",
        "display(app_container)\n"
      ]
    },
    {
      "cell_type": "code",
      "execution_count": null,
      "metadata": {
        "id": "T3EiL22apeBU"
      },
      "outputs": [],
      "source": []
    }
  ],
  "metadata": {
    "accelerator": "GPU",
    "colab": {
      "gpuType": "T4",
      "provenance": []
    },
    "kernelspec": {
      "display_name": "Python 3",
      "name": "python3"
    },
    "language_info": {
      "name": "python"
    },
    "widgets": {
      "application/vnd.jupyter.widget-state+json": {
        "06c00a47263748bbb01182f0b9770ae4": {
          "model_module": "@jupyter-widgets/controls",
          "model_name": "VBoxModel",
          "model_module_version": "1.5.0",
          "state": {
            "_dom_classes": [],
            "_model_module": "@jupyter-widgets/controls",
            "_model_module_version": "1.5.0",
            "_model_name": "VBoxModel",
            "_view_count": null,
            "_view_module": "@jupyter-widgets/controls",
            "_view_module_version": "1.5.0",
            "_view_name": "VBoxView",
            "box_style": "",
            "children": [
              "IPY_MODEL_e7852e943a7547eb8bc58439c8a5e384",
              "IPY_MODEL_a6299034363b43448b02372d462cf53d",
              "IPY_MODEL_110c46f81dce4b99b0163abd3eacc511",
              "IPY_MODEL_25afc11a909b48049053137412ff39f0"
            ],
            "layout": "IPY_MODEL_6c4eda37d3ae4689a1d3ac5ed72f4bd3"
          }
        },
        "e7852e943a7547eb8bc58439c8a5e384": {
          "model_module": "@jupyter-widgets/controls",
          "model_name": "HTMLModel",
          "model_module_version": "1.5.0",
          "state": {
            "_dom_classes": [],
            "_model_module": "@jupyter-widgets/controls",
            "_model_module_version": "1.5.0",
            "_model_name": "HTMLModel",
            "_view_count": null,
            "_view_module": "@jupyter-widgets/controls",
            "_view_module_version": "1.5.0",
            "_view_name": "HTMLView",
            "description": "",
            "description_tooltip": null,
            "layout": "IPY_MODEL_333a2752f157457fbd7273b0c8e0e144",
            "placeholder": "​",
            "style": "IPY_MODEL_07636af0fb9840e5804d62a2f4f40b46",
            "value": "\n    <h1 style=\"text-align:center; font-size:52px; line-height:1.4; margin-bottom:10px;\">\n        🍃 Guava Leaf<br>Disease Detector\n    </h1>\n"
          }
        },
        "a6299034363b43448b02372d462cf53d": {
          "model_module": "@jupyter-widgets/controls",
          "model_name": "HTMLModel",
          "model_module_version": "1.5.0",
          "state": {
            "_dom_classes": [],
            "_model_module": "@jupyter-widgets/controls",
            "_model_module_version": "1.5.0",
            "_model_name": "HTMLModel",
            "_view_count": null,
            "_view_module": "@jupyter-widgets/controls",
            "_view_module_version": "1.5.0",
            "_view_name": "HTMLView",
            "description": "",
            "description_tooltip": null,
            "layout": "IPY_MODEL_967578cefa5346b9b061c29f9cc06808",
            "placeholder": "​",
            "style": "IPY_MODEL_4eda06e3f1c845129d7dbd15397858f1",
            "value": "\n    <p style=\"text-align:center; font-size:18px; color:#333; max-width:750px; margin:auto; line-height:1.8;\">\n        Welcome to the Guava Leaf Disease Detection App!<br><br>\n        It identifies diseases like <b>Canker</b>, <b>Dot</b>, <b>Mummification</b>, <b>Rust</b>, and <b>Healthy</b> leaves with high precision using Deep Learning.<br><br>\n        Let's get started!\n    </p>\n"
          }
        },
        "110c46f81dce4b99b0163abd3eacc511": {
          "model_module": "@jupyter-widgets/controls",
          "model_name": "HBoxModel",
          "model_module_version": "1.5.0",
          "state": {
            "_dom_classes": [],
            "_model_module": "@jupyter-widgets/controls",
            "_model_module_version": "1.5.0",
            "_model_name": "HBoxModel",
            "_view_count": null,
            "_view_module": "@jupyter-widgets/controls",
            "_view_module_version": "1.5.0",
            "_view_name": "HBoxView",
            "box_style": "",
            "children": [
              "IPY_MODEL_233d06083a584914b0d3b00f7fe89c5e"
            ],
            "layout": "IPY_MODEL_3a473787ec6d484d90e5c21eea427716"
          }
        },
        "25afc11a909b48049053137412ff39f0": {
          "model_module": "@jupyter-widgets/controls",
          "model_name": "HTMLModel",
          "model_module_version": "1.5.0",
          "state": {
            "_dom_classes": [],
            "_model_module": "@jupyter-widgets/controls",
            "_model_module_version": "1.5.0",
            "_model_name": "HTMLModel",
            "_view_count": null,
            "_view_module": "@jupyter-widgets/controls",
            "_view_module_version": "1.5.0",
            "_view_name": "HTMLView",
            "description": "",
            "description_tooltip": null,
            "layout": "IPY_MODEL_c56e35d8c5574352923f66a93b8e0bac",
            "placeholder": "​",
            "style": "IPY_MODEL_e001963f4d5b4c8e89ac5cd044507452",
            "value": "<div class=\"footer\">Made with ❤️ by <b>AGROCARE INDIA</b></div>"
          }
        },
        "6c4eda37d3ae4689a1d3ac5ed72f4bd3": {
          "model_module": "@jupyter-widgets/base",
          "model_name": "LayoutModel",
          "model_module_version": "1.2.0",
          "state": {
            "_model_module": "@jupyter-widgets/base",
            "_model_module_version": "1.2.0",
            "_model_name": "LayoutModel",
            "_view_count": null,
            "_view_module": "@jupyter-widgets/base",
            "_view_module_version": "1.2.0",
            "_view_name": "LayoutView",
            "align_content": null,
            "align_items": null,
            "align_self": null,
            "border": null,
            "bottom": null,
            "display": null,
            "flex": null,
            "flex_flow": null,
            "grid_area": null,
            "grid_auto_columns": null,
            "grid_auto_flow": null,
            "grid_auto_rows": null,
            "grid_column": null,
            "grid_gap": null,
            "grid_row": null,
            "grid_template_areas": null,
            "grid_template_columns": null,
            "grid_template_rows": null,
            "height": null,
            "justify_content": null,
            "justify_items": null,
            "left": null,
            "margin": null,
            "max_height": null,
            "max_width": null,
            "min_height": null,
            "min_width": null,
            "object_fit": null,
            "object_position": null,
            "order": null,
            "overflow": null,
            "overflow_x": null,
            "overflow_y": null,
            "padding": null,
            "right": null,
            "top": null,
            "visibility": null,
            "width": null
          }
        },
        "333a2752f157457fbd7273b0c8e0e144": {
          "model_module": "@jupyter-widgets/base",
          "model_name": "LayoutModel",
          "model_module_version": "1.2.0",
          "state": {
            "_model_module": "@jupyter-widgets/base",
            "_model_module_version": "1.2.0",
            "_model_name": "LayoutModel",
            "_view_count": null,
            "_view_module": "@jupyter-widgets/base",
            "_view_module_version": "1.2.0",
            "_view_name": "LayoutView",
            "align_content": null,
            "align_items": null,
            "align_self": null,
            "border": null,
            "bottom": null,
            "display": null,
            "flex": null,
            "flex_flow": null,
            "grid_area": null,
            "grid_auto_columns": null,
            "grid_auto_flow": null,
            "grid_auto_rows": null,
            "grid_column": null,
            "grid_gap": null,
            "grid_row": null,
            "grid_template_areas": null,
            "grid_template_columns": null,
            "grid_template_rows": null,
            "height": null,
            "justify_content": null,
            "justify_items": null,
            "left": null,
            "margin": null,
            "max_height": null,
            "max_width": null,
            "min_height": null,
            "min_width": null,
            "object_fit": null,
            "object_position": null,
            "order": null,
            "overflow": null,
            "overflow_x": null,
            "overflow_y": null,
            "padding": null,
            "right": null,
            "top": null,
            "visibility": null,
            "width": null
          }
        },
        "07636af0fb9840e5804d62a2f4f40b46": {
          "model_module": "@jupyter-widgets/controls",
          "model_name": "DescriptionStyleModel",
          "model_module_version": "1.5.0",
          "state": {
            "_model_module": "@jupyter-widgets/controls",
            "_model_module_version": "1.5.0",
            "_model_name": "DescriptionStyleModel",
            "_view_count": null,
            "_view_module": "@jupyter-widgets/base",
            "_view_module_version": "1.2.0",
            "_view_name": "StyleView",
            "description_width": ""
          }
        },
        "967578cefa5346b9b061c29f9cc06808": {
          "model_module": "@jupyter-widgets/base",
          "model_name": "LayoutModel",
          "model_module_version": "1.2.0",
          "state": {
            "_model_module": "@jupyter-widgets/base",
            "_model_module_version": "1.2.0",
            "_model_name": "LayoutModel",
            "_view_count": null,
            "_view_module": "@jupyter-widgets/base",
            "_view_module_version": "1.2.0",
            "_view_name": "LayoutView",
            "align_content": null,
            "align_items": null,
            "align_self": null,
            "border": null,
            "bottom": null,
            "display": null,
            "flex": null,
            "flex_flow": null,
            "grid_area": null,
            "grid_auto_columns": null,
            "grid_auto_flow": null,
            "grid_auto_rows": null,
            "grid_column": null,
            "grid_gap": null,
            "grid_row": null,
            "grid_template_areas": null,
            "grid_template_columns": null,
            "grid_template_rows": null,
            "height": null,
            "justify_content": null,
            "justify_items": null,
            "left": null,
            "margin": null,
            "max_height": null,
            "max_width": null,
            "min_height": null,
            "min_width": null,
            "object_fit": null,
            "object_position": null,
            "order": null,
            "overflow": null,
            "overflow_x": null,
            "overflow_y": null,
            "padding": null,
            "right": null,
            "top": null,
            "visibility": null,
            "width": null
          }
        },
        "4eda06e3f1c845129d7dbd15397858f1": {
          "model_module": "@jupyter-widgets/controls",
          "model_name": "DescriptionStyleModel",
          "model_module_version": "1.5.0",
          "state": {
            "_model_module": "@jupyter-widgets/controls",
            "_model_module_version": "1.5.0",
            "_model_name": "DescriptionStyleModel",
            "_view_count": null,
            "_view_module": "@jupyter-widgets/base",
            "_view_module_version": "1.2.0",
            "_view_name": "StyleView",
            "description_width": ""
          }
        },
        "233d06083a584914b0d3b00f7fe89c5e": {
          "model_module": "@jupyter-widgets/controls",
          "model_name": "ButtonModel",
          "model_module_version": "1.5.0",
          "state": {
            "_dom_classes": [
              "button-custom"
            ],
            "_model_module": "@jupyter-widgets/controls",
            "_model_module_version": "1.5.0",
            "_model_name": "ButtonModel",
            "_view_count": null,
            "_view_module": "@jupyter-widgets/controls",
            "_view_module_version": "1.5.0",
            "_view_name": "ButtonView",
            "button_style": "",
            "description": "🚀 Start Diagnosis",
            "disabled": false,
            "icon": "",
            "layout": "IPY_MODEL_8757ca9ede2d4d8b968310c86c2ba0be",
            "style": "IPY_MODEL_7db36eba13c64419b6f453a621bf667c",
            "tooltip": ""
          }
        },
        "3a473787ec6d484d90e5c21eea427716": {
          "model_module": "@jupyter-widgets/base",
          "model_name": "LayoutModel",
          "model_module_version": "1.2.0",
          "state": {
            "_model_module": "@jupyter-widgets/base",
            "_model_module_version": "1.2.0",
            "_model_name": "LayoutModel",
            "_view_count": null,
            "_view_module": "@jupyter-widgets/base",
            "_view_module_version": "1.2.0",
            "_view_name": "LayoutView",
            "align_content": null,
            "align_items": null,
            "align_self": null,
            "border": null,
            "bottom": null,
            "display": null,
            "flex": null,
            "flex_flow": null,
            "grid_area": null,
            "grid_auto_columns": null,
            "grid_auto_flow": null,
            "grid_auto_rows": null,
            "grid_column": null,
            "grid_gap": null,
            "grid_row": null,
            "grid_template_areas": null,
            "grid_template_columns": null,
            "grid_template_rows": null,
            "height": null,
            "justify_content": "center",
            "justify_items": null,
            "left": null,
            "margin": null,
            "max_height": null,
            "max_width": null,
            "min_height": null,
            "min_width": null,
            "object_fit": null,
            "object_position": null,
            "order": null,
            "overflow": null,
            "overflow_x": null,
            "overflow_y": null,
            "padding": "20px",
            "right": null,
            "top": null,
            "visibility": null,
            "width": null
          }
        },
        "c56e35d8c5574352923f66a93b8e0bac": {
          "model_module": "@jupyter-widgets/base",
          "model_name": "LayoutModel",
          "model_module_version": "1.2.0",
          "state": {
            "_model_module": "@jupyter-widgets/base",
            "_model_module_version": "1.2.0",
            "_model_name": "LayoutModel",
            "_view_count": null,
            "_view_module": "@jupyter-widgets/base",
            "_view_module_version": "1.2.0",
            "_view_name": "LayoutView",
            "align_content": null,
            "align_items": null,
            "align_self": null,
            "border": null,
            "bottom": null,
            "display": null,
            "flex": null,
            "flex_flow": null,
            "grid_area": null,
            "grid_auto_columns": null,
            "grid_auto_flow": null,
            "grid_auto_rows": null,
            "grid_column": null,
            "grid_gap": null,
            "grid_row": null,
            "grid_template_areas": null,
            "grid_template_columns": null,
            "grid_template_rows": null,
            "height": null,
            "justify_content": null,
            "justify_items": null,
            "left": null,
            "margin": null,
            "max_height": null,
            "max_width": null,
            "min_height": null,
            "min_width": null,
            "object_fit": null,
            "object_position": null,
            "order": null,
            "overflow": null,
            "overflow_x": null,
            "overflow_y": null,
            "padding": null,
            "right": null,
            "top": null,
            "visibility": null,
            "width": null
          }
        },
        "e001963f4d5b4c8e89ac5cd044507452": {
          "model_module": "@jupyter-widgets/controls",
          "model_name": "DescriptionStyleModel",
          "model_module_version": "1.5.0",
          "state": {
            "_model_module": "@jupyter-widgets/controls",
            "_model_module_version": "1.5.0",
            "_model_name": "DescriptionStyleModel",
            "_view_count": null,
            "_view_module": "@jupyter-widgets/base",
            "_view_module_version": "1.2.0",
            "_view_name": "StyleView",
            "description_width": ""
          }
        },
        "8757ca9ede2d4d8b968310c86c2ba0be": {
          "model_module": "@jupyter-widgets/base",
          "model_name": "LayoutModel",
          "model_module_version": "1.2.0",
          "state": {
            "_model_module": "@jupyter-widgets/base",
            "_model_module_version": "1.2.0",
            "_model_name": "LayoutModel",
            "_view_count": null,
            "_view_module": "@jupyter-widgets/base",
            "_view_module_version": "1.2.0",
            "_view_name": "LayoutView",
            "align_content": null,
            "align_items": null,
            "align_self": null,
            "border": null,
            "bottom": null,
            "display": null,
            "flex": null,
            "flex_flow": null,
            "grid_area": null,
            "grid_auto_columns": null,
            "grid_auto_flow": null,
            "grid_auto_rows": null,
            "grid_column": null,
            "grid_gap": null,
            "grid_row": null,
            "grid_template_areas": null,
            "grid_template_columns": null,
            "grid_template_rows": null,
            "height": "55px",
            "justify_content": null,
            "justify_items": null,
            "left": null,
            "margin": null,
            "max_height": null,
            "max_width": null,
            "min_height": null,
            "min_width": null,
            "object_fit": null,
            "object_position": null,
            "order": null,
            "overflow": null,
            "overflow_x": null,
            "overflow_y": null,
            "padding": null,
            "right": null,
            "top": null,
            "visibility": null,
            "width": "250px"
          }
        },
        "7db36eba13c64419b6f453a621bf667c": {
          "model_module": "@jupyter-widgets/controls",
          "model_name": "ButtonStyleModel",
          "model_module_version": "1.5.0",
          "state": {
            "_model_module": "@jupyter-widgets/controls",
            "_model_module_version": "1.5.0",
            "_model_name": "ButtonStyleModel",
            "_view_count": null,
            "_view_module": "@jupyter-widgets/base",
            "_view_module_version": "1.2.0",
            "_view_name": "StyleView",
            "button_color": null,
            "font_weight": ""
          }
        }
      }
    }
  },
  "nbformat": 4,
  "nbformat_minor": 0
}